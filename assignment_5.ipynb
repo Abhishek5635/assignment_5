{
  "nbformat": 4,
  "nbformat_minor": 0,
  "metadata": {
    "colab": {
      "provenance": []
    },
    "kernelspec": {
      "name": "python3",
      "display_name": "Python 3"
    },
    "language_info": {
      "name": "python"
    }
  },
  "cells": [
    {
      "cell_type": "markdown",
      "source": [
        "1. What does an empty dictionary&#39;s code look like?"
      ],
      "metadata": {
        "id": "iKWkzYm0mRfF"
      }
    },
    {
      "cell_type": "code",
      "execution_count": null,
      "metadata": {
        "colab": {
          "base_uri": "https://localhost:8080/"
        },
        "id": "r5unC13ImFDk",
        "outputId": "b1c5b36c-cba5-4435-d913-d6cfe38cc702"
      },
      "outputs": [
        {
          "output_type": "execute_result",
          "data": {
            "text/plain": [
              "dict"
            ]
          },
          "metadata": {},
          "execution_count": 1
        }
      ],
      "source": [
        "d1 = {}\n",
        "\n",
        "type(d1)"
      ]
    },
    {
      "cell_type": "markdown",
      "source": [
        "2. What is the value of a dictionary value with the key &#39;foo&#39; and the value 42?"
      ],
      "metadata": {
        "id": "YUPum8YkmZ-5"
      }
    },
    {
      "cell_type": "code",
      "source": [
        "dict = {\"foo\":42}\n",
        "dict['foo']\n",
        "the value \"foo\" in dict is 42"
      ],
      "metadata": {
        "id": "_QOeXTJWmLR6"
      },
      "execution_count": null,
      "outputs": []
    },
    {
      "cell_type": "markdown",
      "source": [
        "3. What is the most significant distinction between a dictionary and a list?"
      ],
      "metadata": {
        "id": "Et69pAkxnBii"
      }
    },
    {
      "cell_type": "code",
      "source": [
        "Syntax: \n",
        "1) dictonary : dictinary have curly braces in its syntax\n",
        "2) list : list have brackets in its syntax"
      ],
      "metadata": {
        "id": "jABIp1Ufmm4H"
      },
      "execution_count": null,
      "outputs": []
    },
    {
      "cell_type": "markdown",
      "source": [
        "4. What happens if you try to access spam[&#39;foo&#39;] if spam is {&#39;bar&#39;: 100}?"
      ],
      "metadata": {
        "id": "b-13bUtSnoSb"
      }
    },
    {
      "cell_type": "code",
      "source": [
        "spam = {\"bar\":100}\n",
        "spam[\"foo\"]\n",
        "This will show Keyerror"
      ],
      "metadata": {
        "colab": {
          "base_uri": "https://localhost:8080/",
          "height": 187
        },
        "id": "2wT6sC2RnpAZ",
        "outputId": "de7a4c59-c75e-44a0-8dbd-2a87ee2c8255"
      },
      "execution_count": null,
      "outputs": [
        {
          "output_type": "error",
          "ename": "KeyError",
          "evalue": "ignored",
          "traceback": [
            "\u001b[0;31m---------------------------------------------------------------------------\u001b[0m",
            "\u001b[0;31mKeyError\u001b[0m                                  Traceback (most recent call last)",
            "\u001b[0;32m<ipython-input-6-da67c32e913a>\u001b[0m in \u001b[0;36m<module>\u001b[0;34m\u001b[0m\n\u001b[1;32m      1\u001b[0m \u001b[0mspam\u001b[0m \u001b[0;34m=\u001b[0m \u001b[0;34m{\u001b[0m\u001b[0;34m\"bar\"\u001b[0m\u001b[0;34m:\u001b[0m\u001b[0;36m100\u001b[0m\u001b[0;34m}\u001b[0m\u001b[0;34m\u001b[0m\u001b[0;34m\u001b[0m\u001b[0m\n\u001b[0;32m----> 2\u001b[0;31m \u001b[0mspam\u001b[0m\u001b[0;34m[\u001b[0m\u001b[0;34m\"foo\"\u001b[0m\u001b[0;34m]\u001b[0m\u001b[0;34m\u001b[0m\u001b[0;34m\u001b[0m\u001b[0m\n\u001b[0m",
            "\u001b[0;31mKeyError\u001b[0m: 'foo'"
          ]
        }
      ]
    },
    {
      "cell_type": "markdown",
      "source": [
        "5. If a dictionary is stored in spam, what is the difference between the expressions &#39;cat&#39; in spam and\n",
        "&#39;cat&#39; in spam.keys()?"
      ],
      "metadata": {
        "id": "fEZJtbfWn7S6"
      }
    },
    {
      "cell_type": "code",
      "source": [
        "1) 'cat' in spam = This checks directly whether the exists in the dictionary if it exist then it will give True\n",
        "\n",
        "2) 'cat' in spam.keys() = This checks whether the 'cat' exist in the list of spam.key() of spam dictionary.\n",
        "                          spam.keys() returns the list all the keys which are there in the spam"
      ],
      "metadata": {
        "id": "v4_D_c83nxx7"
      },
      "execution_count": null,
      "outputs": []
    },
    {
      "cell_type": "markdown",
      "source": [
        "7. What is a shortcut for the following code?\n",
        "if &#39;color&#39; not in spam:\n",
        "spam[&#39;color&#39;] = &#39;black&#39;"
      ],
      "metadata": {
        "id": "MaXqN7Qiqn_M"
      }
    },
    {
      "cell_type": "code",
      "source": [
        "We can use setdefault() method\n",
        "\n",
        "eg. spam = {}\n",
        "spam.setdefault('color',\"black\")\n",
        "\n",
        "this method check if color is present in spam dictionary \n",
        "  if color is not present in the dictionary as key it will add into dictionary colar as black with key-value pair\n",
        "  if it is present it will return curent dictionary"
      ],
      "metadata": {
        "id": "wprlRe5oqo06"
      },
      "execution_count": null,
      "outputs": []
    },
    {
      "cell_type": "markdown",
      "source": [
        "8. How do you &quot;pretty print&quot; dictionary values using which module and function?"
      ],
      "metadata": {
        "id": "VfvgMt6YspmB"
      }
    },
    {
      "cell_type": "code",
      "source": [
        "#We can use the json module to pretty print the dictionary.\n",
        "#In json module there is dump() method which coverts dictinary into json formatted string.\n",
        "#Inside dump() method we can use indent parameter to pretty print\n",
        "\n",
        "import json\n",
        "d1 = {\"name\" : \"abhishek\", \"id\" : 12, \"clg\"  : \"ssgmce\"}\n",
        "\n",
        "# pretty print the dictionary\n",
        "print(json.dumps(d1,indent =2))"
      ],
      "metadata": {
        "colab": {
          "base_uri": "https://localhost:8080/"
        },
        "id": "UpdPR7zswZxb",
        "outputId": "f5cb2012-2771-4fe6-c732-92d930b08358"
      },
      "execution_count": 10,
      "outputs": [
        {
          "output_type": "stream",
          "name": "stdout",
          "text": [
            "{\n",
            "  \"name\": \"abhishek\",\n",
            "  \"id\": 12,\n",
            "  \"clg\": \"ssgmce\"\n",
            "}\n"
          ]
        }
      ]
    },
    {
      "cell_type": "code",
      "source": [],
      "metadata": {
        "id": "D97ZPRHIxEF1"
      },
      "execution_count": null,
      "outputs": []
    }
  ]
}